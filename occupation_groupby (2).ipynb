{
  "cells": [
    {
      "cell_type": "code",
      "execution_count": 1,
      "metadata": {
        "colab": {
          "base_uri": "https://localhost:8080/"
        },
        "id": "wQxwqXB4QCPv",
        "outputId": "873355f6-6764-4c01-c08e-8c1bbd12e291"
      },
      "outputs": [
        {
          "output_type": "stream",
          "name": "stdout",
          "text": [
            "Collecting pyspark\n",
            "  Downloading pyspark-3.5.1.tar.gz (317.0 MB)\n",
            "\u001b[2K     \u001b[90m━━━━━━━━━━━━━━━━━━━━━━━━━━━━━━━━━━━━━━━━\u001b[0m \u001b[32m317.0/317.0 MB\u001b[0m \u001b[31m3.8 MB/s\u001b[0m eta \u001b[36m0:00:00\u001b[0m\n",
            "\u001b[?25h  Preparing metadata (setup.py) ... \u001b[?25l\u001b[?25hdone\n",
            "Requirement already satisfied: py4j==0.10.9.7 in /usr/local/lib/python3.10/dist-packages (from pyspark) (0.10.9.7)\n",
            "Building wheels for collected packages: pyspark\n",
            "  Building wheel for pyspark (setup.py) ... \u001b[?25l\u001b[?25hdone\n",
            "  Created wheel for pyspark: filename=pyspark-3.5.1-py2.py3-none-any.whl size=317488490 sha256=c44862b4b1785b56df51d584c52df787a698b38580e485613c36666ff26d48fb\n",
            "  Stored in directory: /root/.cache/pip/wheels/80/1d/60/2c256ed38dddce2fdd93be545214a63e02fbd8d74fb0b7f3a6\n",
            "Successfully built pyspark\n",
            "Installing collected packages: pyspark\n",
            "Successfully installed pyspark-3.5.1\n"
          ]
        }
      ],
      "source": [
        "pip install pyspark"
      ]
    },
    {
      "cell_type": "code",
      "source": [],
      "metadata": {
        "id": "MElSDmTPFhgB"
      },
      "execution_count": null,
      "outputs": []
    },
    {
      "cell_type": "code",
      "execution_count": 2,
      "metadata": {
        "colab": {
          "base_uri": "https://localhost:8080/",
          "height": 237
        },
        "id": "SwLPUeD2QIau",
        "outputId": "e5bff639-1fdb-4c92-dc2e-54f93b7789df"
      },
      "outputs": [
        {
          "output_type": "execute_result",
          "data": {
            "text/plain": [
              "         age gender  occupation zip_code\n",
              "user_id                                 \n",
              "1         24      M  technician    85711\n",
              "2         53      F       other    94043\n",
              "3         23      M      writer    32067\n",
              "4         24      M  technician    43537\n",
              "5         33      F       other    15213"
            ],
            "text/html": [
              "\n",
              "  <div id=\"df-8efd592f-6ccb-425e-bbc5-30f425092e54\" class=\"colab-df-container\">\n",
              "    <div>\n",
              "<style scoped>\n",
              "    .dataframe tbody tr th:only-of-type {\n",
              "        vertical-align: middle;\n",
              "    }\n",
              "\n",
              "    .dataframe tbody tr th {\n",
              "        vertical-align: top;\n",
              "    }\n",
              "\n",
              "    .dataframe thead th {\n",
              "        text-align: right;\n",
              "    }\n",
              "</style>\n",
              "<table border=\"1\" class=\"dataframe\">\n",
              "  <thead>\n",
              "    <tr style=\"text-align: right;\">\n",
              "      <th></th>\n",
              "      <th>age</th>\n",
              "      <th>gender</th>\n",
              "      <th>occupation</th>\n",
              "      <th>zip_code</th>\n",
              "    </tr>\n",
              "    <tr>\n",
              "      <th>user_id</th>\n",
              "      <th></th>\n",
              "      <th></th>\n",
              "      <th></th>\n",
              "      <th></th>\n",
              "    </tr>\n",
              "  </thead>\n",
              "  <tbody>\n",
              "    <tr>\n",
              "      <th>1</th>\n",
              "      <td>24</td>\n",
              "      <td>M</td>\n",
              "      <td>technician</td>\n",
              "      <td>85711</td>\n",
              "    </tr>\n",
              "    <tr>\n",
              "      <th>2</th>\n",
              "      <td>53</td>\n",
              "      <td>F</td>\n",
              "      <td>other</td>\n",
              "      <td>94043</td>\n",
              "    </tr>\n",
              "    <tr>\n",
              "      <th>3</th>\n",
              "      <td>23</td>\n",
              "      <td>M</td>\n",
              "      <td>writer</td>\n",
              "      <td>32067</td>\n",
              "    </tr>\n",
              "    <tr>\n",
              "      <th>4</th>\n",
              "      <td>24</td>\n",
              "      <td>M</td>\n",
              "      <td>technician</td>\n",
              "      <td>43537</td>\n",
              "    </tr>\n",
              "    <tr>\n",
              "      <th>5</th>\n",
              "      <td>33</td>\n",
              "      <td>F</td>\n",
              "      <td>other</td>\n",
              "      <td>15213</td>\n",
              "    </tr>\n",
              "  </tbody>\n",
              "</table>\n",
              "</div>\n",
              "    <div class=\"colab-df-buttons\">\n",
              "\n",
              "  <div class=\"colab-df-container\">\n",
              "    <button class=\"colab-df-convert\" onclick=\"convertToInteractive('df-8efd592f-6ccb-425e-bbc5-30f425092e54')\"\n",
              "            title=\"Convert this dataframe to an interactive table.\"\n",
              "            style=\"display:none;\">\n",
              "\n",
              "  <svg xmlns=\"http://www.w3.org/2000/svg\" height=\"24px\" viewBox=\"0 -960 960 960\">\n",
              "    <path d=\"M120-120v-720h720v720H120Zm60-500h600v-160H180v160Zm220 220h160v-160H400v160Zm0 220h160v-160H400v160ZM180-400h160v-160H180v160Zm440 0h160v-160H620v160ZM180-180h160v-160H180v160Zm440 0h160v-160H620v160Z\"/>\n",
              "  </svg>\n",
              "    </button>\n",
              "\n",
              "  <style>\n",
              "    .colab-df-container {\n",
              "      display:flex;\n",
              "      gap: 12px;\n",
              "    }\n",
              "\n",
              "    .colab-df-convert {\n",
              "      background-color: #E8F0FE;\n",
              "      border: none;\n",
              "      border-radius: 50%;\n",
              "      cursor: pointer;\n",
              "      display: none;\n",
              "      fill: #1967D2;\n",
              "      height: 32px;\n",
              "      padding: 0 0 0 0;\n",
              "      width: 32px;\n",
              "    }\n",
              "\n",
              "    .colab-df-convert:hover {\n",
              "      background-color: #E2EBFA;\n",
              "      box-shadow: 0px 1px 2px rgba(60, 64, 67, 0.3), 0px 1px 3px 1px rgba(60, 64, 67, 0.15);\n",
              "      fill: #174EA6;\n",
              "    }\n",
              "\n",
              "    .colab-df-buttons div {\n",
              "      margin-bottom: 4px;\n",
              "    }\n",
              "\n",
              "    [theme=dark] .colab-df-convert {\n",
              "      background-color: #3B4455;\n",
              "      fill: #D2E3FC;\n",
              "    }\n",
              "\n",
              "    [theme=dark] .colab-df-convert:hover {\n",
              "      background-color: #434B5C;\n",
              "      box-shadow: 0px 1px 3px 1px rgba(0, 0, 0, 0.15);\n",
              "      filter: drop-shadow(0px 1px 2px rgba(0, 0, 0, 0.3));\n",
              "      fill: #FFFFFF;\n",
              "    }\n",
              "  </style>\n",
              "\n",
              "    <script>\n",
              "      const buttonEl =\n",
              "        document.querySelector('#df-8efd592f-6ccb-425e-bbc5-30f425092e54 button.colab-df-convert');\n",
              "      buttonEl.style.display =\n",
              "        google.colab.kernel.accessAllowed ? 'block' : 'none';\n",
              "\n",
              "      async function convertToInteractive(key) {\n",
              "        const element = document.querySelector('#df-8efd592f-6ccb-425e-bbc5-30f425092e54');\n",
              "        const dataTable =\n",
              "          await google.colab.kernel.invokeFunction('convertToInteractive',\n",
              "                                                    [key], {});\n",
              "        if (!dataTable) return;\n",
              "\n",
              "        const docLinkHtml = 'Like what you see? Visit the ' +\n",
              "          '<a target=\"_blank\" href=https://colab.research.google.com/notebooks/data_table.ipynb>data table notebook</a>'\n",
              "          + ' to learn more about interactive tables.';\n",
              "        element.innerHTML = '';\n",
              "        dataTable['output_type'] = 'display_data';\n",
              "        await google.colab.output.renderOutput(dataTable, element);\n",
              "        const docLink = document.createElement('div');\n",
              "        docLink.innerHTML = docLinkHtml;\n",
              "        element.appendChild(docLink);\n",
              "      }\n",
              "    </script>\n",
              "  </div>\n",
              "\n",
              "\n",
              "<div id=\"df-f0a3c53a-1109-405d-b654-a603214eadf1\">\n",
              "  <button class=\"colab-df-quickchart\" onclick=\"quickchart('df-f0a3c53a-1109-405d-b654-a603214eadf1')\"\n",
              "            title=\"Suggest charts\"\n",
              "            style=\"display:none;\">\n",
              "\n",
              "<svg xmlns=\"http://www.w3.org/2000/svg\" height=\"24px\"viewBox=\"0 0 24 24\"\n",
              "     width=\"24px\">\n",
              "    <g>\n",
              "        <path d=\"M19 3H5c-1.1 0-2 .9-2 2v14c0 1.1.9 2 2 2h14c1.1 0 2-.9 2-2V5c0-1.1-.9-2-2-2zM9 17H7v-7h2v7zm4 0h-2V7h2v10zm4 0h-2v-4h2v4z\"/>\n",
              "    </g>\n",
              "</svg>\n",
              "  </button>\n",
              "\n",
              "<style>\n",
              "  .colab-df-quickchart {\n",
              "      --bg-color: #E8F0FE;\n",
              "      --fill-color: #1967D2;\n",
              "      --hover-bg-color: #E2EBFA;\n",
              "      --hover-fill-color: #174EA6;\n",
              "      --disabled-fill-color: #AAA;\n",
              "      --disabled-bg-color: #DDD;\n",
              "  }\n",
              "\n",
              "  [theme=dark] .colab-df-quickchart {\n",
              "      --bg-color: #3B4455;\n",
              "      --fill-color: #D2E3FC;\n",
              "      --hover-bg-color: #434B5C;\n",
              "      --hover-fill-color: #FFFFFF;\n",
              "      --disabled-bg-color: #3B4455;\n",
              "      --disabled-fill-color: #666;\n",
              "  }\n",
              "\n",
              "  .colab-df-quickchart {\n",
              "    background-color: var(--bg-color);\n",
              "    border: none;\n",
              "    border-radius: 50%;\n",
              "    cursor: pointer;\n",
              "    display: none;\n",
              "    fill: var(--fill-color);\n",
              "    height: 32px;\n",
              "    padding: 0;\n",
              "    width: 32px;\n",
              "  }\n",
              "\n",
              "  .colab-df-quickchart:hover {\n",
              "    background-color: var(--hover-bg-color);\n",
              "    box-shadow: 0 1px 2px rgba(60, 64, 67, 0.3), 0 1px 3px 1px rgba(60, 64, 67, 0.15);\n",
              "    fill: var(--button-hover-fill-color);\n",
              "  }\n",
              "\n",
              "  .colab-df-quickchart-complete:disabled,\n",
              "  .colab-df-quickchart-complete:disabled:hover {\n",
              "    background-color: var(--disabled-bg-color);\n",
              "    fill: var(--disabled-fill-color);\n",
              "    box-shadow: none;\n",
              "  }\n",
              "\n",
              "  .colab-df-spinner {\n",
              "    border: 2px solid var(--fill-color);\n",
              "    border-color: transparent;\n",
              "    border-bottom-color: var(--fill-color);\n",
              "    animation:\n",
              "      spin 1s steps(1) infinite;\n",
              "  }\n",
              "\n",
              "  @keyframes spin {\n",
              "    0% {\n",
              "      border-color: transparent;\n",
              "      border-bottom-color: var(--fill-color);\n",
              "      border-left-color: var(--fill-color);\n",
              "    }\n",
              "    20% {\n",
              "      border-color: transparent;\n",
              "      border-left-color: var(--fill-color);\n",
              "      border-top-color: var(--fill-color);\n",
              "    }\n",
              "    30% {\n",
              "      border-color: transparent;\n",
              "      border-left-color: var(--fill-color);\n",
              "      border-top-color: var(--fill-color);\n",
              "      border-right-color: var(--fill-color);\n",
              "    }\n",
              "    40% {\n",
              "      border-color: transparent;\n",
              "      border-right-color: var(--fill-color);\n",
              "      border-top-color: var(--fill-color);\n",
              "    }\n",
              "    60% {\n",
              "      border-color: transparent;\n",
              "      border-right-color: var(--fill-color);\n",
              "    }\n",
              "    80% {\n",
              "      border-color: transparent;\n",
              "      border-right-color: var(--fill-color);\n",
              "      border-bottom-color: var(--fill-color);\n",
              "    }\n",
              "    90% {\n",
              "      border-color: transparent;\n",
              "      border-bottom-color: var(--fill-color);\n",
              "    }\n",
              "  }\n",
              "</style>\n",
              "\n",
              "  <script>\n",
              "    async function quickchart(key) {\n",
              "      const quickchartButtonEl =\n",
              "        document.querySelector('#' + key + ' button');\n",
              "      quickchartButtonEl.disabled = true;  // To prevent multiple clicks.\n",
              "      quickchartButtonEl.classList.add('colab-df-spinner');\n",
              "      try {\n",
              "        const charts = await google.colab.kernel.invokeFunction(\n",
              "            'suggestCharts', [key], {});\n",
              "      } catch (error) {\n",
              "        console.error('Error during call to suggestCharts:', error);\n",
              "      }\n",
              "      quickchartButtonEl.classList.remove('colab-df-spinner');\n",
              "      quickchartButtonEl.classList.add('colab-df-quickchart-complete');\n",
              "    }\n",
              "    (() => {\n",
              "      let quickchartButtonEl =\n",
              "        document.querySelector('#df-f0a3c53a-1109-405d-b654-a603214eadf1 button');\n",
              "      quickchartButtonEl.style.display =\n",
              "        google.colab.kernel.accessAllowed ? 'block' : 'none';\n",
              "    })();\n",
              "  </script>\n",
              "</div>\n",
              "\n",
              "    </div>\n",
              "  </div>\n"
            ],
            "application/vnd.google.colaboratory.intrinsic+json": {
              "type": "dataframe",
              "variable_name": "users",
              "summary": "{\n  \"name\": \"users\",\n  \"rows\": 943,\n  \"fields\": [\n    {\n      \"column\": \"user_id\",\n      \"properties\": {\n        \"dtype\": \"number\",\n        \"std\": 272,\n        \"min\": 1,\n        \"max\": 943,\n        \"num_unique_values\": 943,\n        \"samples\": [\n          97,\n          266,\n          811\n        ],\n        \"semantic_type\": \"\",\n        \"description\": \"\"\n      }\n    },\n    {\n      \"column\": \"age\",\n      \"properties\": {\n        \"dtype\": \"number\",\n        \"std\": 12,\n        \"min\": 7,\n        \"max\": 73,\n        \"num_unique_values\": 61,\n        \"samples\": [\n          24,\n          57,\n          52\n        ],\n        \"semantic_type\": \"\",\n        \"description\": \"\"\n      }\n    },\n    {\n      \"column\": \"gender\",\n      \"properties\": {\n        \"dtype\": \"category\",\n        \"num_unique_values\": 2,\n        \"samples\": [\n          \"F\",\n          \"M\"\n        ],\n        \"semantic_type\": \"\",\n        \"description\": \"\"\n      }\n    },\n    {\n      \"column\": \"occupation\",\n      \"properties\": {\n        \"dtype\": \"category\",\n        \"num_unique_values\": 21,\n        \"samples\": [\n          \"technician\",\n          \"healthcare\"\n        ],\n        \"semantic_type\": \"\",\n        \"description\": \"\"\n      }\n    },\n    {\n      \"column\": \"zip_code\",\n      \"properties\": {\n        \"dtype\": \"string\",\n        \"num_unique_values\": 795,\n        \"samples\": [\n          \"90016\",\n          \"15232\"\n        ],\n        \"semantic_type\": \"\",\n        \"description\": \"\"\n      }\n    }\n  ]\n}"
            }
          },
          "metadata": {},
          "execution_count": 2
        }
      ],
      "source": [
        "import pandas as pd\n",
        "\n",
        "users = pd.read_table('https://raw.githubusercontent.com/justmarkham/DAT8/master/data/u.user',\n",
        "                      sep='|', index_col='user_id')\n",
        "users.head()\n",
        "\n"
      ]
    },
    {
      "cell_type": "code",
      "execution_count": 3,
      "metadata": {
        "id": "SVQUDJB3QNI1"
      },
      "outputs": [],
      "source": [
        "from pyspark.sql import SparkSession\n",
        "spark = SparkSession.builder.appName('SparkBy').getOrCreate()\n",
        "users_df = spark.createDataFrame(data=users)"
      ]
    },
    {
      "cell_type": "code",
      "execution_count": 4,
      "metadata": {
        "colab": {
          "base_uri": "https://localhost:8080/"
        },
        "id": "TQ_w99WPSNON",
        "outputId": "6fb3f60e-1268-4503-cde1-d2fb303490ed"
      },
      "outputs": [
        {
          "output_type": "stream",
          "name": "stdout",
          "text": [
            "+-------------+-----+----------+-------------------+\n",
            "|   occupation|total|male_count|         male_ratio|\n",
            "+-------------+-----+----------+-------------------+\n",
            "|       doctor|    7|         7|                1.0|\n",
            "|     engineer|   67|        65| 0.9701492537313433|\n",
            "|   technician|   27|        26| 0.9629629629629629|\n",
            "|      retired|   14|        13| 0.9285714285714286|\n",
            "|   programmer|   66|        60| 0.9090909090909091|\n",
            "|    executive|   32|        29|            0.90625|\n",
            "|    scientist|   31|        28| 0.9032258064516129|\n",
            "|entertainment|   18|        16| 0.8888888888888888|\n",
            "|       lawyer|   12|        10| 0.8333333333333334|\n",
            "|     salesman|   12|         9|               0.75|\n",
            "|     educator|   95|        69| 0.7263157894736842|\n",
            "|      student|  196|       136| 0.6938775510204082|\n",
            "|        other|  105|        69| 0.6571428571428571|\n",
            "|    marketing|   26|        16| 0.6153846153846154|\n",
            "|       writer|   45|        26| 0.5777777777777777|\n",
            "|         none|    9|         5| 0.5555555555555556|\n",
            "|administrator|   79|        43| 0.5443037974683544|\n",
            "|       artist|   28|        15| 0.5357142857142857|\n",
            "|    librarian|   51|        22|0.43137254901960786|\n",
            "|   healthcare|   16|         5|             0.3125|\n",
            "+-------------+-----+----------+-------------------+\n",
            "only showing top 20 rows\n",
            "\n"
          ]
        }
      ],
      "source": [
        "\n",
        "#step5\n",
        "\n",
        "\n",
        "\n",
        "\n",
        "def male_ratio_per_occupation(df):\n",
        "\n",
        "\n",
        "  from pyspark.sql.functions import col, count, when\n",
        "  male_ratio = users_df.groupBy('occupation') \\\n",
        "                      .agg(count('*').alias('total'),\n",
        "                           count(when(col('gender') == 'M', True)).alias('male_count')) \\\n",
        "                      .withColumn('male_ratio', col('male_count') / col('total')) \\\n",
        "                      .orderBy(col('male_ratio').desc())\n",
        "  return male_ratio\n",
        "\n",
        "male_ratio_df = male_ratio_per_occupation(users_df)\n",
        "male_ratio_df.show()\n"
      ]
    },
    {
      "cell_type": "code",
      "execution_count": null,
      "metadata": {
        "colab": {
          "base_uri": "https://localhost:8080/"
        },
        "id": "PT_WamiGT7Y2",
        "outputId": "a6d62eb8-1649-434e-fab3-f25d05ec1c0a"
      },
      "outputs": [
        {
          "output_type": "stream",
          "name": "stdout",
          "text": [
            "+-------------+-----+----------+-------------------+\n",
            "|   occupation|total|male_count|         male_ratio|\n",
            "+-------------+-----+----------+-------------------+\n",
            "|       doctor|    7|         7|                1.0|\n",
            "|     engineer|   67|        65| 0.9701492537313433|\n",
            "|   technician|   27|        26| 0.9629629629629629|\n",
            "|      retired|   14|        13| 0.9285714285714286|\n",
            "|   programmer|   66|        60| 0.9090909090909091|\n",
            "|    executive|   32|        29|            0.90625|\n",
            "|    scientist|   31|        28| 0.9032258064516129|\n",
            "|entertainment|   18|        16| 0.8888888888888888|\n",
            "|       lawyer|   12|        10| 0.8333333333333334|\n",
            "|     salesman|   12|         9|               0.75|\n",
            "|     educator|   95|        69| 0.7263157894736842|\n",
            "|      student|  196|       136| 0.6938775510204082|\n",
            "|        other|  105|        69| 0.6571428571428571|\n",
            "|    marketing|   26|        16| 0.6153846153846154|\n",
            "|       writer|   45|        26| 0.5777777777777777|\n",
            "|         none|    9|         5| 0.5555555555555556|\n",
            "|administrator|   79|        43| 0.5443037974683544|\n",
            "|       artist|   28|        15| 0.5357142857142857|\n",
            "|    librarian|   51|        22|0.43137254901960786|\n",
            "|   healthcare|   16|         5|             0.3125|\n",
            "+-------------+-----+----------+-------------------+\n",
            "only showing top 20 rows\n",
            "\n"
          ]
        }
      ],
      "source": [
        "def male_ratio_per_occupation(users_df):\n",
        "\n",
        "  from pyspark.sql.functions import col, count, when\n",
        "  male_ratio = users_df.groupBy('occupation') \\\n",
        "                      .agg(count('*').alias('total'),\n",
        "                           count(when(col('gender') == 'M', True)).alias('male_count')) \\\n",
        "                      .withColumn('male_ratio', col('male_count') / col('total')) \\\n",
        "                      .orderBy(col('male_ratio').desc())\n",
        "  return male_ratio\n",
        "\n",
        "male_ratio_df = male_ratio_per_occupation(users_df)\n",
        "male_ratio_df.show()"
      ]
    },
    {
      "cell_type": "code",
      "execution_count": null,
      "metadata": {
        "id": "MdaDAE-cU3E4"
      },
      "outputs": [],
      "source": []
    },
    {
      "cell_type": "code",
      "execution_count": null,
      "metadata": {
        "colab": {
          "base_uri": "https://localhost:8080/"
        },
        "id": "CUmsgYKpQ0bd",
        "outputId": "6b4b05eb-6d02-4dd0-bd14-a1b940c42ab1"
      },
      "outputs": [
        {
          "name": "stdout",
          "output_type": "stream",
          "text": [
            "root\n",
            " |-- age: long (nullable = true)\n",
            " |-- gender: string (nullable = true)\n",
            " |-- occupation: string (nullable = true)\n",
            " |-- zip_code: string (nullable = true)\n",
            "\n"
          ]
        }
      ],
      "source": [
        "users_df.printSchema()"
      ]
    },
    {
      "cell_type": "code",
      "execution_count": 16,
      "metadata": {
        "id": "-WTVKsvzRC8c"
      },
      "outputs": [],
      "source": [
        "def mean_age_by_occupation(df):\n",
        " return df.groupBy(\"occupation\").agg({'age': 'mean'})\n",
        "\n",
        "\n",
        " result = mean_age_by_occupation(users_df)\n",
        " result.show()"
      ]
    },
    {
      "cell_type": "code",
      "source": [
        "users_df.groupBy(\"occupation\").agg({'age': 'mean'}).show()"
      ],
      "metadata": {
        "colab": {
          "base_uri": "https://localhost:8080/"
        },
        "id": "JLawUUcfKg-U",
        "outputId": "85868e6c-c336-465a-bf32-679af7af9f1b"
      },
      "execution_count": 15,
      "outputs": [
        {
          "output_type": "stream",
          "name": "stdout",
          "text": [
            "+-------------+------------------+\n",
            "|   occupation|          avg(age)|\n",
            "+-------------+------------------+\n",
            "|    librarian|              40.0|\n",
            "|      retired| 63.07142857142857|\n",
            "|       lawyer|             36.75|\n",
            "|         none|26.555555555555557|\n",
            "|       writer| 36.31111111111111|\n",
            "|   programmer|33.121212121212125|\n",
            "|    marketing| 37.61538461538461|\n",
            "|        other|34.523809523809526|\n",
            "|    executive|          38.71875|\n",
            "|    scientist| 35.54838709677419|\n",
            "|      student|22.081632653061224|\n",
            "|     salesman|35.666666666666664|\n",
            "|       artist|31.392857142857142|\n",
            "|   technician|33.148148148148145|\n",
            "|administrator| 38.74683544303797|\n",
            "|     engineer| 36.38805970149254|\n",
            "|   healthcare|           41.5625|\n",
            "|     educator| 42.01052631578948|\n",
            "|entertainment| 29.22222222222222|\n",
            "|    homemaker| 32.57142857142857|\n",
            "+-------------+------------------+\n",
            "only showing top 20 rows\n",
            "\n"
          ]
        }
      ]
    },
    {
      "cell_type": "code",
      "execution_count": null,
      "metadata": {
        "id": "jJ9OhUE5T814"
      },
      "outputs": [],
      "source": [
        "import pyspark.sql.functions as F\n",
        "\n",
        "def calculate_male_ratio_by_occupation(df):\n",
        "\n",
        "\n",
        "  # Create a column to indicate whether the gender is male\n",
        "  df = df.withColumn(\"is_male\", F.when(F.col(\"gender\") == \"M\", 1).otherwise(0))\n",
        "\n",
        "  # Calculate the male ratio per occupation\n",
        "  male_ratio_df = df.groupBy(\"occupation\").agg(\n",
        "      F.sum(\"is_male\").alias(\"total_males\"),\n",
        "      F.count(\"*\").alias(\"total_count\")\n",
        "  ).withColumn(\"male_ratio\", F.col(\"total_males\") / F.col(\"total_count\"))\n",
        "\n",
        "  # Sort by male ratio in descending order\n",
        "  male_ratio_df = male_ratio_df.orderBy(F.desc(\"male_ratio\"))\n",
        "\n",
        "  return male_ratio_df\n"
      ]
    },
    {
      "cell_type": "code",
      "execution_count": 6,
      "metadata": {
        "colab": {
          "base_uri": "https://localhost:8080/"
        },
        "id": "2o5wQ_KsU3-l",
        "outputId": "e34bfeff-efdd-4358-e054-cc86dc131064"
      },
      "outputs": [
        {
          "output_type": "stream",
          "name": "stdout",
          "text": [
            "+-------------+-------+-------+\n",
            "|   occupation|min_age|max_age|\n",
            "+-------------+-------+-------+\n",
            "|    librarian|     23|     69|\n",
            "|      retired|     51|     73|\n",
            "|       lawyer|     21|     53|\n",
            "|         none|     11|     55|\n",
            "|       writer|     18|     60|\n",
            "|   programmer|     20|     63|\n",
            "|    marketing|     24|     55|\n",
            "|        other|     13|     64|\n",
            "|    executive|     22|     69|\n",
            "|    scientist|     23|     55|\n",
            "|      student|      7|     42|\n",
            "|     salesman|     18|     66|\n",
            "|       artist|     19|     48|\n",
            "|   technician|     21|     55|\n",
            "|administrator|     21|     70|\n",
            "|     engineer|     22|     70|\n",
            "|   healthcare|     22|     62|\n",
            "|     educator|     23|     63|\n",
            "|entertainment|     15|     50|\n",
            "|    homemaker|     20|     50|\n",
            "+-------------+-------+-------+\n",
            "only showing top 20 rows\n",
            "\n"
          ]
        }
      ],
      "source": [
        "# step6\n",
        "from pyspark.sql import functions as F\n",
        "def min_max_age_per_occupation(df):\n",
        "\n",
        "  age_range = users_df.groupBy('occupation') \\\n",
        "                      .agg(F.min('age').alias('min_age'),\n",
        "                           F.max('age').alias('max_age'))\n",
        "  return age_range\n",
        "\n",
        "age_range_df = min_max_age_per_occupation(users_df)\n",
        "age_range_df.show()\n"
      ]
    },
    {
      "cell_type": "code",
      "execution_count": 7,
      "metadata": {
        "colab": {
          "base_uri": "https://localhost:8080/"
        },
        "id": "qnb-mJXoVSx8",
        "outputId": "59db51d4-494b-4acb-b07e-14b4b003d1af"
      },
      "outputs": [
        {
          "output_type": "stream",
          "name": "stdout",
          "text": [
            "+-------------+------+------------------+\n",
            "|   occupation|gender|          avg(age)|\n",
            "+-------------+------+------------------+\n",
            "|   technician|     M| 32.96153846153846|\n",
            "|     educator|     F| 39.11538461538461|\n",
            "|       lawyer|     F|              39.5|\n",
            "|       lawyer|     M|              36.2|\n",
            "|      student|     F|             20.75|\n",
            "|   healthcare|     F| 39.81818181818182|\n",
            "|administrator|     M| 37.16279069767442|\n",
            "|    marketing|     M|            37.875|\n",
            "|    homemaker|     F|34.166666666666664|\n",
            "|       artist|     F|30.307692307692307|\n",
            "|         none|     F|              36.5|\n",
            "|       doctor|     M| 43.57142857142857|\n",
            "|       writer|     F| 37.63157894736842|\n",
            "|     educator|     M| 43.10144927536232|\n",
            "|    scientist|     M| 36.32142857142857|\n",
            "|       writer|     M| 35.34615384615385|\n",
            "|        other|     F| 35.47222222222222|\n",
            "|   healthcare|     M|              45.4|\n",
            "|    scientist|     F|28.333333333333332|\n",
            "|         none|     M|              18.6|\n",
            "+-------------+------+------------------+\n",
            "only showing top 20 rows\n",
            "\n"
          ]
        }
      ],
      "source": [
        "# step 7\n",
        "\n",
        "def mean_age_by_occupation_gender(df):\n",
        "\n",
        "  mean_age_df = users_df.groupBy(\"occupation\",\"gender\").agg({'age': 'mean'})\n",
        "  return mean_age_df\n",
        "\n",
        "mean_age_df = mean_age_by_occupation_gender(users_df)\n",
        "mean_age_df.show()\n"
      ]
    },
    {
      "cell_type": "code",
      "execution_count": 8,
      "metadata": {
        "colab": {
          "base_uri": "https://localhost:8080/"
        },
        "id": "6-V8120LVxgA",
        "outputId": "eb2ecb27-a7e0-42ea-a941-99f183773c8a"
      },
      "outputs": [
        {
          "output_type": "stream",
          "name": "stdout",
          "text": [
            "+-------------+------+------------------+\n",
            "|   occupation|gender|        percentage|\n",
            "+-------------+------+------------------+\n",
            "|   technician|     M| 96.29629629629629|\n",
            "|     educator|     F|27.368421052631582|\n",
            "|       lawyer|     F|16.666666666666664|\n",
            "|       lawyer|     M| 83.33333333333334|\n",
            "|      student|     F|30.612244897959183|\n",
            "|   healthcare|     F|             68.75|\n",
            "|administrator|     M| 54.43037974683544|\n",
            "|    marketing|     M| 61.53846153846154|\n",
            "|    homemaker|     F| 85.71428571428571|\n",
            "|       artist|     F| 46.42857142857143|\n",
            "|         none|     F| 44.44444444444444|\n",
            "|       doctor|     M|             100.0|\n",
            "|       writer|     F| 42.22222222222222|\n",
            "|     educator|     M| 72.63157894736842|\n",
            "|    scientist|     M| 90.32258064516128|\n",
            "|       writer|     M| 57.77777777777777|\n",
            "|        other|     F|34.285714285714285|\n",
            "|   healthcare|     M|             31.25|\n",
            "|    scientist|     F|  9.67741935483871|\n",
            "|         none|     M| 55.55555555555556|\n",
            "+-------------+------+------------------+\n",
            "only showing top 20 rows\n",
            "\n"
          ]
        }
      ],
      "source": [
        "# step 8\n",
        "from pyspark.sql.functions import col, count, sum\n",
        "def gender_percentage_per_occupation(df):\n",
        "\n",
        "  gender_counts = users_df.groupBy('occupation', 'gender').agg(count('*').alias('count'))\n",
        "  occupation_totals = gender_counts.groupBy('occupation').agg(sum('count').alias('total'))\n",
        "  gender_percentages = gender_counts.join(occupation_totals, 'occupation') \\\n",
        "                                   .withColumn('percentage', (col('count') / col('total')) * 100) \\\n",
        "                                   .select('occupation', 'gender', 'percentage')\n",
        "  return gender_percentages\n",
        "\n",
        "gender_percentages_df = gender_percentage_per_occupation(users_df)\n",
        "gender_percentages_df.show()\n"
      ]
    },
    {
      "cell_type": "code",
      "source": [
        "from pyspark.sql import SparkSession\n",
        "#spark = SparkSession.builder.appName('SparkBy').getOrCreate()\n",
        "#users_df = spark.createDataFrame(data=users)\n",
        "\n",
        "\n",
        "import pandas as pd\n",
        "\n",
        "users = pd.read_table('https://raw.githubusercontent.com/justmarkham/DAT8/master/data/u.user',\n",
        "                      sep='|', index_col='user_id')\n",
        "users.head()\n",
        "\n",
        "\n",
        "spark = SparkSession.builder.appName('SparkBy').getOrCreate()\n",
        "users_df = spark.createDataFrame(data=users)\n",
        "\n",
        "\n",
        "gender_perct_occupation = s.gender_percentage_per_occupation(df)\n",
        "print(f\"percentage:{gender_perct_occupation}\")\n",
        "\n",
        "\n",
        "mean_age_gender =s.mean_age_by_occupation_gender(df)\n",
        "print(f\"mean_age_gender:{mean_age_gender}\")\n",
        "\n",
        "age_range = s.min_max_age_per_occupation(df)\n",
        "print(f\"age_range:{age_range}\")\n",
        "\n",
        "male_ratio_df = s.male_ratio_per_occupation(df)\n",
        "print(f\"male_ratio_df:{male_ratio_df}\")\n",
        "\n",
        "\n",
        "\n",
        "\n",
        "\n",
        "\n",
        "mean_age_occupation =s.calculate_mean_age_by_occupation(df)\n",
        "print(f\"mean_age_occupation:{mean_age_occupation}\")\n",
        "\n",
        "\n",
        "\n",
        "\n"
      ],
      "metadata": {
        "id": "_ogJItcnFjKi"
      },
      "execution_count": null,
      "outputs": []
    },
    {
      "cell_type": "code",
      "source": [
        "from pyspark.sql import functions as F\n",
        "\n",
        "def calculate_mean_age_by_occupation(df):\n",
        "\n",
        "\n",
        "  mean_age_df = df.groupBy(\"occupation\").agg(F.mean(\"age\").alias(\"mean_age\"))\n",
        "  return mean_age_df\n",
        "\n",
        "result = calculate_mean_age_by_occupation(users_df)\n",
        "result.show()"
      ],
      "metadata": {
        "colab": {
          "base_uri": "https://localhost:8080/"
        },
        "id": "lhhZOU1PIpru",
        "outputId": "b354affb-fd3b-4b14-920c-f4fa5960feaf"
      },
      "execution_count": null,
      "outputs": [
        {
          "output_type": "stream",
          "name": "stdout",
          "text": [
            "+-------------+------------------+\n",
            "|   occupation|          mean_age|\n",
            "+-------------+------------------+\n",
            "|    librarian|              40.0|\n",
            "|      retired| 63.07142857142857|\n",
            "|       lawyer|             36.75|\n",
            "|         none|26.555555555555557|\n",
            "|       writer| 36.31111111111111|\n",
            "|   programmer|33.121212121212125|\n",
            "|    marketing| 37.61538461538461|\n",
            "|        other|34.523809523809526|\n",
            "|    executive|          38.71875|\n",
            "|    scientist| 35.54838709677419|\n",
            "|      student|22.081632653061224|\n",
            "|     salesman|35.666666666666664|\n",
            "|       artist|31.392857142857142|\n",
            "|   technician|33.148148148148145|\n",
            "|administrator| 38.74683544303797|\n",
            "|     engineer| 36.38805970149254|\n",
            "|   healthcare|           41.5625|\n",
            "|     educator| 42.01052631578948|\n",
            "|entertainment| 29.22222222222222|\n",
            "|    homemaker| 32.57142857142857|\n",
            "+-------------+------------------+\n",
            "only showing top 20 rows\n",
            "\n"
          ]
        }
      ]
    }
  ],
  "metadata": {
    "colab": {
      "provenance": []
    },
    "kernelspec": {
      "display_name": "Python 3",
      "name": "python3"
    },
    "language_info": {
      "name": "python"
    }
  },
  "nbformat": 4,
  "nbformat_minor": 0
}