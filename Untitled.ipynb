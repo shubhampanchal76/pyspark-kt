{
 "cells": [
  {
   "cell_type": "code",
   "execution_count": 41,
   "id": "317a4936-eabe-4447-959e-dd69d713cd0f",
   "metadata": {},
   "outputs": [],
   "source": [
    "import pandas as pd\n",
    "import numpy as np\n",
    "from pyspark.sql import SparkSession\n",
    "from pyspark.sql.functions import col"
   ]
  },
  {
   "cell_type": "code",
   "execution_count": 3,
   "id": "03d980c7-ad0a-4a14-8ba6-8de168b5d0ff",
   "metadata": {},
   "outputs": [
    {
     "data": {
      "text/html": [
       "\n",
       "            <div>\n",
       "                <p><b>SparkSession - in-memory</b></p>\n",
       "                \n",
       "        <div>\n",
       "            <p><b>SparkContext</b></p>\n",
       "\n",
       "            <p><a href=\"http://ASCIN240704:4040\">Spark UI</a></p>\n",
       "\n",
       "            <dl>\n",
       "              <dt>Version</dt>\n",
       "                <dd><code>v3.5.1</code></dd>\n",
       "              <dt>Master</dt>\n",
       "                <dd><code>local[*]</code></dd>\n",
       "              <dt>AppName</dt>\n",
       "                <dd><code>Test</code></dd>\n",
       "            </dl>\n",
       "        </div>\n",
       "        \n",
       "            </div>\n",
       "        "
      ],
      "text/plain": [
       "<pyspark.sql.session.SparkSession at 0x18114b736b0>"
      ]
     },
     "execution_count": 3,
     "metadata": {},
     "output_type": "execute_result"
    }
   ],
   "source": [
    "spark = SparkSession.builder.appName(\"Test\").getOrCreate()\n",
    "spark"
   ]
  },
  {
   "cell_type": "code",
   "execution_count": 7,
   "id": "987cb902-8f6d-4e46-8d2f-a784c62f8532",
   "metadata": {},
   "outputs": [],
   "source": [
    "raw_data = {'regiment': ['Nighthawks', 'Nighthawks', 'Nighthawks', 'Nighthawks', 'Dragoons', 'Dragoons', 'Dragoons', 'Dragoons', 'Scouts', 'Scouts', 'Scouts', 'Scouts'],\n",
    "            'company': ['1st', '1st', '2nd', '2nd', '1st', '1st', '2nd', '2nd','1st', '1st', '2nd', '2nd'],\n",
    "            'deaths': [523, 52, 25, 616, 43, 234, 523, 62, 62, 73, 37, 35],\n",
    "            'battles': [5, 42, 2, 2, 4, 7, 8, 3, 4, 7, 8, 9],\n",
    "            'size': [1045, 957, 1099, 1400, 1592, 1006, 987, 849, 973, 1005, 1099, 1523],\n",
    "            'veterans': [1, 5, 62, 26, 73, 37, 949, 48, 48, 435, 63, 345],\n",
    "            'readiness': [1, 2, 3, 3, 2, 1, 2, 3, 2, 1, 2, 3],\n",
    "            'armored': [1, 0, 1, 1, 0, 1, 0, 1, 0, 0, 1, 1],\n",
    "            'deserters': [4, 24, 31, 2, 3, 4, 24, 31, 2, 3, 2, 3],\n",
    "            'origin': ['Arizona', 'California', 'Texas', 'Florida', 'Maine', 'Iowa', 'Alaska', 'Washington', 'Oregon', 'Wyoming', 'Louisana', 'Georgia']}\n",
    "\n",
    "data = pd.DataFrame(data=raw_data)\n",
    "data.to_csv(\"Army.csv\",index=False)"
   ]
  },
  {
   "cell_type": "code",
   "execution_count": 9,
   "id": "7bcd9bc4-b570-46cd-a0a3-6299669ede7e",
   "metadata": {},
   "outputs": [
    {
     "name": "stdout",
     "output_type": "stream",
     "text": [
      "+----------+-------+------+-------+----+--------+---------+-------+---------+----------+\n",
      "|  regiment|company|deaths|battles|size|veterans|readiness|armored|deserters|    origin|\n",
      "+----------+-------+------+-------+----+--------+---------+-------+---------+----------+\n",
      "|Nighthawks|    1st|   523|      5|1045|       1|        1|      1|        4|   Arizona|\n",
      "|Nighthawks|    1st|    52|     42| 957|       5|        2|      0|       24|California|\n",
      "|Nighthawks|    2nd|    25|      2|1099|      62|        3|      1|       31|     Texas|\n",
      "|Nighthawks|    2nd|   616|      2|1400|      26|        3|      1|        2|   Florida|\n",
      "|  Dragoons|    1st|    43|      4|1592|      73|        2|      0|        3|     Maine|\n",
      "|  Dragoons|    1st|   234|      7|1006|      37|        1|      1|        4|      Iowa|\n",
      "|  Dragoons|    2nd|   523|      8| 987|     949|        2|      0|       24|    Alaska|\n",
      "|  Dragoons|    2nd|    62|      3| 849|      48|        3|      1|       31|Washington|\n",
      "|    Scouts|    1st|    62|      4| 973|      48|        2|      0|        2|    Oregon|\n",
      "|    Scouts|    1st|    73|      7|1005|     435|        1|      0|        3|   Wyoming|\n",
      "|    Scouts|    2nd|    37|      8|1099|      63|        2|      1|        2|  Louisana|\n",
      "|    Scouts|    2nd|    35|      9|1523|     345|        3|      1|        3|   Georgia|\n",
      "+----------+-------+------+-------+----+--------+---------+-------+---------+----------+\n",
      "\n"
     ]
    }
   ],
   "source": [
    "df = spark.read.csv(\"Army.csv\", header=True)\n",
    "df.show()"
   ]
  },
  {
   "cell_type": "code",
   "execution_count": 53,
   "id": "efe3d6f7-c07d-4fcc-ba74-7ce2ad9837aa",
   "metadata": {},
   "outputs": [
    {
     "name": "stdout",
     "output_type": "stream",
     "text": [
      "+----------+-------+------+-------+----+--------+---------+-------+---------+--------+\n",
      "|  regiment|company|deaths|battles|size|veterans|readiness|armored|deserters|  origin|\n",
      "+----------+-------+------+-------+----+--------+---------+-------+---------+--------+\n",
      "|Nighthawks|    1st|   523|      5|1045|       1|        1|      1|        4| Arizona|\n",
      "|Nighthawks|    2nd|    25|      2|1099|      62|        3|      1|       31|   Texas|\n",
      "|Nighthawks|    2nd|   616|      2|1400|      26|        3|      1|        2| Florida|\n",
      "|  Dragoons|    1st|    43|      4|1592|      73|        2|      0|        3|   Maine|\n",
      "|  Dragoons|    2nd|   523|      8| 987|     949|        2|      0|       24|  Alaska|\n",
      "|    Scouts|    2nd|    37|      8|1099|      63|        2|      1|        2|Louisana|\n",
      "|    Scouts|    2nd|    35|      9|1523|     345|        3|      1|        3| Georgia|\n",
      "+----------+-------+------+-------+----+--------+---------+-------+---------+--------+\n",
      "\n"
     ]
    }
   ],
   "source": [
    "filtered_df = df.filter((col(\"deaths\") > 500) | (col(\"deaths\") < 50))\n",
    "filtered_df.show()"
   ]
  },
  {
   "cell_type": "code",
   "execution_count": null,
   "id": "4f4b3f3b-7fbf-41d7-9788-254471984809",
   "metadata": {},
   "outputs": [],
   "source": []
  },
  {
   "cell_type": "code",
   "execution_count": null,
   "id": "c22571c4-d1bc-41af-a2a8-0d7e62696e44",
   "metadata": {},
   "outputs": [],
   "source": []
  },
  {
   "cell_type": "code",
   "execution_count": null,
   "id": "aa4ba3eb-c318-43ed-a970-d0114f29704d",
   "metadata": {},
   "outputs": [],
   "source": []
  },
  {
   "cell_type": "code",
   "execution_count": null,
   "id": "0cb0f51a-3692-4055-85c9-4b2b7c6f7cd3",
   "metadata": {},
   "outputs": [],
   "source": []
  },
  {
   "cell_type": "code",
   "execution_count": null,
   "id": "05c6bab1-fa84-4c32-882b-a39e63dbd8bd",
   "metadata": {},
   "outputs": [],
   "source": []
  },
  {
   "cell_type": "code",
   "execution_count": null,
   "id": "e51aa804-92e4-446a-a687-4d1414b5dbde",
   "metadata": {},
   "outputs": [],
   "source": []
  },
  {
   "cell_type": "code",
   "execution_count": null,
   "id": "6b0d3990-37cc-431f-b607-61bdc79d58fd",
   "metadata": {},
   "outputs": [],
   "source": []
  },
  {
   "cell_type": "code",
   "execution_count": null,
   "id": "47998357-d136-4cd9-a9b5-6b4477fa2735",
   "metadata": {},
   "outputs": [],
   "source": []
  },
  {
   "cell_type": "code",
   "execution_count": null,
   "id": "32e521fe-ca48-466e-899b-3d0809cf92c4",
   "metadata": {},
   "outputs": [],
   "source": []
  },
  {
   "cell_type": "code",
   "execution_count": null,
   "id": "f7f08b12-3ab7-4e11-9f75-4d60c408c0aa",
   "metadata": {},
   "outputs": [],
   "source": []
  },
  {
   "cell_type": "code",
   "execution_count": null,
   "id": "565ef760-feba-4f4b-80ea-c92e8a94e97c",
   "metadata": {},
   "outputs": [],
   "source": []
  },
  {
   "cell_type": "code",
   "execution_count": 55,
   "id": "1e3e7501-f6c5-407e-95f8-ac8868d6ddd6",
   "metadata": {},
   "outputs": [],
   "source": [
    "#################\n",
    "def show_col(df, colm):\n",
    "    return df.select(colm)\n",
    "\n",
    "def get_col_names(df):\n",
    "    return df.columns\n",
    "\n",
    "def get_above(df, colm, value):\n",
    "    return df.filter(col(colm)>value)\n",
    "\n",
    "def get_below(df, colm,value):\n",
    "    return df.filter(col(colm)<value)\n",
    "\n",
    "def get_between(df,colm, upper, lower):\n",
    "    return df.filter((col(colm) > upper) | (col(\"deaths\") < lower))"
   ]
  },
  {
   "cell_type": "code",
   "execution_count": 57,
   "id": "84eb7449-7f14-4803-a9c1-121f4aa7fc2e",
   "metadata": {},
   "outputs": [
    {
     "name": "stdout",
     "output_type": "stream",
     "text": [
      "The veterans col is as follows : \n",
      "+--------+\n",
      "|veterans|\n",
      "+--------+\n",
      "|       1|\n",
      "|       5|\n",
      "|      62|\n",
      "|      26|\n",
      "|      73|\n",
      "|      37|\n",
      "|     949|\n",
      "|      48|\n",
      "|      48|\n",
      "|     435|\n",
      "|      63|\n",
      "|     345|\n",
      "+--------+\n",
      "\n",
      "The veterans and Deaths columns is as follows : \n",
      "+--------+------+\n",
      "|veterans|deaths|\n",
      "+--------+------+\n",
      "|       1|   523|\n",
      "|       5|    52|\n",
      "|      62|    25|\n",
      "|      26|   616|\n",
      "|      73|    43|\n",
      "|      37|   234|\n",
      "|     949|   523|\n",
      "|      48|    62|\n",
      "|      48|    62|\n",
      "|     435|    73|\n",
      "|      63|    37|\n",
      "|     345|    35|\n",
      "+--------+------+\n",
      "\n",
      "The column names are : ['regiment', 'company', 'deaths', 'battles', 'size', 'veterans', 'readiness', 'armored', 'deserters', 'origin']\n",
      "+------+------+----+---------+\n",
      "|origin|deaths|size|deserters|\n",
      "+------+------+----+---------+\n",
      "| Maine|    43|1592|        3|\n",
      "|Alaska|   523| 987|       24|\n",
      "+------+------+----+---------+\n",
      "\n",
      "The data for deaths above 50 is : \n",
      "+----------+-------+------+-------+----+--------+---------+-------+---------+----------+\n",
      "|  regiment|company|deaths|battles|size|veterans|readiness|armored|deserters|    origin|\n",
      "+----------+-------+------+-------+----+--------+---------+-------+---------+----------+\n",
      "|Nighthawks|    1st|   523|      5|1045|       1|        1|      1|        4|   Arizona|\n",
      "|Nighthawks|    1st|    52|     42| 957|       5|        2|      0|       24|California|\n",
      "|Nighthawks|    2nd|   616|      2|1400|      26|        3|      1|        2|   Florida|\n",
      "|  Dragoons|    1st|   234|      7|1006|      37|        1|      1|        4|      Iowa|\n",
      "|  Dragoons|    2nd|   523|      8| 987|     949|        2|      0|       24|    Alaska|\n",
      "|  Dragoons|    2nd|    62|      3| 849|      48|        3|      1|       31|Washington|\n",
      "|    Scouts|    1st|    62|      4| 973|      48|        2|      0|        2|    Oregon|\n",
      "|    Scouts|    1st|    73|      7|1005|     435|        1|      0|        3|   Wyoming|\n",
      "+----------+-------+------+-------+----+--------+---------+-------+---------+----------+\n",
      "\n",
      "The rows for deaths above 500 and less than 50 are : \n",
      "+----------+-------+------+-------+----+--------+---------+-------+---------+--------+\n",
      "|  regiment|company|deaths|battles|size|veterans|readiness|armored|deserters|  origin|\n",
      "+----------+-------+------+-------+----+--------+---------+-------+---------+--------+\n",
      "|Nighthawks|    1st|   523|      5|1045|       1|        1|      1|        4| Arizona|\n",
      "|Nighthawks|    2nd|    25|      2|1099|      62|        3|      1|       31|   Texas|\n",
      "|Nighthawks|    2nd|   616|      2|1400|      26|        3|      1|        2| Florida|\n",
      "|  Dragoons|    1st|    43|      4|1592|      73|        2|      0|        3|   Maine|\n",
      "|  Dragoons|    2nd|   523|      8| 987|     949|        2|      0|       24|  Alaska|\n",
      "|    Scouts|    2nd|    37|      8|1099|      63|        2|      1|        2|Louisana|\n",
      "|    Scouts|    2nd|    35|      9|1523|     345|        3|      1|        3| Georgia|\n",
      "+----------+-------+------+-------+----+--------+---------+-------+---------+--------+\n",
      "\n"
     ]
    }
   ],
   "source": [
    "print(\"The veterans col is as follows : \")\n",
    "show_col(df,\"veterans\").show()\n",
    "\n",
    "print(\"The veterans and Deaths columns is as follows : \")\n",
    "show_col(df, ['veterans','deaths']).show()\n",
    "\n",
    "col_names = get_col_names(df)\n",
    "print(f\"The column names are : {col_names}\")\n",
    "\n",
    "maine_alaska = show_col(df.filter((df.origin == \"Maine\") | (df.origin == \"Alaska\")), ['origin','deaths', 'size', 'deserters'])\n",
    "maine_alaska.show()\n",
    "\n",
    "deaths_above_50 = get_above(df,'deaths', 50)\n",
    "print(\"The data for deaths above 50 is : \")\n",
    "deaths_above_50.show()\n",
    "\n",
    "print(\"The rows for deaths above 500 and less than 50 are : \")\n",
    "get_between(df,\"deaths\", 500, 50).show()"
   ]
  },
  {
   "cell_type": "code",
   "execution_count": null,
   "id": "f19a9c65-a375-40a8-83a4-2708d6db05a6",
   "metadata": {},
   "outputs": [],
   "source": []
  }
 ],
 "metadata": {
  "kernelspec": {
   "display_name": "Python 3 (ipykernel)",
   "language": "python",
   "name": "python3"
  },
  "language_info": {
   "codemirror_mode": {
    "name": "ipython",
    "version": 3
   },
   "file_extension": ".py",
   "mimetype": "text/x-python",
   "name": "python",
   "nbconvert_exporter": "python",
   "pygments_lexer": "ipython3",
   "version": "3.12.4"
  }
 },
 "nbformat": 4,
 "nbformat_minor": 5
}
